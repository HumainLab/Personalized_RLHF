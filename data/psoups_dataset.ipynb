{
 "cells": [
  {
   "cell_type": "code",
   "execution_count": 1,
   "metadata": {},
   "outputs": [],
   "source": [
    "import os\n",
    "import shutil\n",
    "import numpy as np\n",
    "import pandas as pd\n",
    "from collections import Counter\n",
    "\n",
    "from datasets import load_dataset\n",
    "import json"
   ]
  },
  {
   "cell_type": "code",
   "execution_count": null,
   "metadata": {},
   "outputs": [],
   "source": [
    "# first, download and unzip the data per the instructions in Personalized Soups git repo [https://github.com/joeljang/RLPHF]\n",
    "psoups_data_path = \"your/downloaded/original/psoups/data/path\""
   ]
  },
  {
   "cell_type": "code",
   "execution_count": 3,
   "metadata": {},
   "outputs": [],
   "source": [
    "# use the data for reward model training by psoups, the json files are under rm_training/ in the unzipped data\n",
    "# preference prompts corresponding to preference profiles P1A, P1B, P2A, P2B, P3A, P3B\n",
    "preference_prompts = {\n",
    "    \"P1A\": \"Generate a response that can be easily understood by an elementary school student.\",\n",
    "    \"P1B\": \"Generate a response that only a PhD Student in that specific field could understand.\",\n",
    "    \"P2A\": \"Generate a response that is concise and to the point without being verbose.\",\n",
    "    \"P2B\": \"Generate a response that is very informative without missing any background information.\",\n",
    "    \"P3A\": \"Generate a response that is friendly, witty, funny, and humorous, like a close friend.\",\n",
    "    \"P3B\": \"Generate a response in an unfriendly manner.\",\n",
    "}"
   ]
  },
  {
   "cell_type": "code",
   "execution_count": null,
   "metadata": {},
   "outputs": [
    {
     "name": "stdout",
     "output_type": "stream",
     "text": [
      "P1A: 48300\n",
      "P1B: 48825\n",
      "P2A: 47350\n",
      "P2B: 49220\n",
      "P3A: 49155\n",
      "P3B: 48565\n"
     ]
    }
   ],
   "source": [
    "preference_datasets = {}\n",
    "for preference_profile in preference_prompts.keys():\n",
    "    data_path = f\"{psoups_data_path}/rm_training/{preference_profile}.json\"\n",
    "    preference_datasets[preference_profile] = load_dataset(\"json\", data_files=data_path, split=\"train\")  # only has train split\n",
    "\n",
    "# number of rows in each json file\n",
    "for preference_profile in preference_datasets.keys():\n",
    "    print(f\"{preference_profile}: {len(preference_datasets[preference_profile]['user_input'])}\")"
   ]
  },
  {
   "cell_type": "code",
   "execution_count": 6,
   "metadata": {},
   "outputs": [
    {
     "name": "stdout",
     "output_type": "stream",
     "text": [
      "P1A comparisons #: 8959\n",
      "P1B comparisons #: 9069\n",
      "P2A comparisons #: 8239\n",
      "P2B comparisons #: 8626\n",
      "P3A comparisons #: 9356\n",
      "P3B comparisons #: 9222\n",
      "total comparisons #: 53471\n"
     ]
    }
   ],
   "source": [
    "# remove duplicate comparisons for each preference profile\n",
    "dataset_wo_duplicates = []\n",
    "\n",
    "# \"P1A\", \"P1B\", \"P2A\", \"P2B\", \"P3A\", \"P3B\" correspond to user ids 1, 2, 3, 4, 5, 6\n",
    "for i, preference_profile in enumerate([\"P1A\", \"P1B\", \"P2A\", \"P2B\", \"P3A\", \"P3B\"]):\n",
    "    counter = Counter()\n",
    "    dataset = preference_datasets[preference_profile]\n",
    "\n",
    "    for question, response_j, response_k in \\\n",
    "        zip(dataset[\"user_input\"], dataset[\"completion_a\"], dataset[\"completion_b\"]):\n",
    "        if response_j == response_k:\n",
    "            continue\n",
    "    \n",
    "        text = f\"<|user|>\\n{question} \\n<|response j|>\\n {response_j} \\n<|response k|>\\n {response_k}\"\n",
    "        if text not in counter:\n",
    "            dataset_wo_duplicates.append({\n",
    "                \"user_id\": i+1,  # user id starts from 1\n",
    "                \"user_input\": question.replace(preference_prompts[preference_profile], \"\").strip(),  # remove preference prompt from the input\n",
    "                \"completion_a\": response_j,\n",
    "                \"completion_b\": response_k,\n",
    "            })\n",
    "        \n",
    "        counter[text] += 1\n",
    "    \n",
    "    print(f\"{preference_profile} comparisons #: {len(counter)}\")\n",
    "\n",
    "print(f\"total comparisons #: {len(dataset_wo_duplicates)}\")"
   ]
  },
  {
   "cell_type": "code",
   "execution_count": 7,
   "metadata": {},
   "outputs": [
    {
     "name": "stdout",
     "output_type": "stream",
     "text": [
      "User 1 comparisons #: 8959\n",
      "User 2 comparisons #: 9069\n",
      "User 3 comparisons #: 8239\n",
      "User 4 comparisons #: 8626\n",
      "User 5 comparisons #: 9356\n",
      "User 6 comparisons #: 9222\n"
     ]
    }
   ],
   "source": [
    "user_id, comparison_cnt = np.unique(\n",
    "    [comparison[\"user_id\"] for comparison in dataset_wo_duplicates], return_counts=True)\n",
    "\n",
    "for i, cnt in zip(user_id, comparison_cnt):\n",
    "    print(f\"User {i} comparisons #: {cnt}\")"
   ]
  },
  {
   "cell_type": "code",
   "execution_count": 8,
   "metadata": {},
   "outputs": [],
   "source": [
    "with open(f\"./allcombo_8_cleaned.json\", \"w\") as f:\n",
    "    json.dump(dataset_wo_duplicates, f)"
   ]
  },
  {
   "cell_type": "code",
   "execution_count": 9,
   "metadata": {},
   "outputs": [
    {
     "data": {
      "text/plain": [
       "'./koala_eval_50.json'"
      ]
     },
     "execution_count": 9,
     "metadata": {},
     "output_type": "execute_result"
    }
   ],
   "source": [
    "# the 50 prompts in koala_eval_50.json will be used for evaluation\n",
    "# create a copy under /data for future evaluation\n",
    "shutil.copy(os.path.join(psoups_data_path, \"koala_eval_50.json\"), \"./koala_eval_50.json\")"
   ]
  }
 ],
 "metadata": {
  "kernelspec": {
   "display_name": "Python 3",
   "language": "python",
   "name": "python3"
  },
  "language_info": {
   "codemirror_mode": {
    "name": "ipython",
    "version": 3
   },
   "file_extension": ".py",
   "mimetype": "text/x-python",
   "name": "python",
   "nbconvert_exporter": "python",
   "pygments_lexer": "ipython3",
   "version": "3.9.16"
  }
 },
 "nbformat": 4,
 "nbformat_minor": 4
}
